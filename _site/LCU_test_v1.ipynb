{
 "cells": [
  {
   "cell_type": "code",
   "execution_count": 1,
   "id": "02450f36",
   "metadata": {},
   "outputs": [],
   "source": [
    "from qiskit import QuantumCircuit, QuantumRegister\n",
    "import numpy as np\n",
    "from qiskit.quantum_info import Statevector\n",
    "from qiskit_aer import AerSimulator\n",
    "\n",
    "# Definieer gewichten en genormaliseerde amplituden\n",
    "omega = [1.5, 0.5, -0.5]\n",
    "lam = sum(abs(w) for w in omega)            # lambda = 2.5\n",
    "alpha = [np.sqrt(abs(w)/lam) for w in omega]  # amplitudes voor |00>,|01>,|10>\n",
    "alpha.append(0)                            # pad amplitude voor |11>\n",
    "alpha = np.array(alpha, dtype=complex)\n",
    "alpha = alpha / np.linalg.norm(alpha)      # normaliseer (zou al genormaliseerd moeten zijn)\n",
    "\n",
    "# Bouw PREP subcircuit\n",
    "anc = QuantumRegister(2, name=\"anc\")\n",
    "prep_circ = QuantumCircuit(anc, name=\"PREP\")\n",
    "prep_circ.prepare_state(alpha, anc)  # bereidt ancilla-toestand volgens alpha\n",
    "prep_gate = prep_circ.to_gate(label=\"PREP\")\n"
   ]
  },
  {
   "cell_type": "code",
   "execution_count": 2,
   "id": "64bb1e59",
   "metadata": {},
   "outputs": [
    {
     "data": {
      "text/plain": [
       "<qiskit.circuit.instructionset.InstructionSet at 0x7f0610e223b0>"
      ]
     },
     "execution_count": 2,
     "metadata": {},
     "output_type": "execute_result"
    }
   ],
   "source": [
    "prep_circ.draw()    \n",
    "prep_circ.save_statevector()"
   ]
  },
  {
   "cell_type": "code",
   "execution_count": 3,
   "id": "c88e1d20",
   "metadata": {},
   "outputs": [
    {
     "name": "stdout",
     "output_type": "stream",
     "text": [
      "Prepared state (ancilla): Statevector([7.74596669e-01+4.74303666e-17j,\n",
      "             4.47213595e-01+1.36919675e-16j,\n",
      "             4.47213595e-01+1.67761203e-16j,\n",
      "             5.55111512e-17-7.11455499e-17j],\n",
      "            dims=(2, 2))\n"
     ]
    }
   ],
   "source": [
    "from qiskit_aer import AerSimulator\n",
    "# Set up the quantum simulator\n",
    "backend = AerSimulator(method='statevector', shots=1024)\n",
    "#Execute the circuit on the simulator\n",
    "#job = backend.run(qpe_circ, shots=1024)\n",
    "job = backend.run(prep_circ.decompose(reps=6), shots=1024)\n",
    "state_prep = job.result().get_statevector(prep_circ)\n",
    "print(\"Prepared state (ancilla):\", state_prep)\n",
    "\n"
   ]
  },
  {
   "cell_type": "code",
   "execution_count": 4,
   "id": "67f25ab2",
   "metadata": {},
   "outputs": [
    {
     "name": "stdout",
     "output_type": "stream",
     "text": [
      "U_0 = Instruction(name='id', num_qubits=1, num_clbits=0, params=[]) met controle toestand 00\n",
      "U_1 = Instruction(name='x', num_qubits=1, num_clbits=0, params=[]) met controle toestand 10\n",
      "U_2 = Instruction(name='-Z', num_qubits=1, num_clbits=0, params=[]) met controle toestand 01\n"
     ]
    }
   ],
   "source": [
    "from qiskit.circuit.library import XGate, IGate\n",
    "\n",
    "# Definieer één-qubit gates voor I, X en -Z\n",
    "id_gate = IGate()                   # identiteitspoort (I)\n",
    "x_gate = XGate()                    # Pauli-X poort\n",
    "# Bouw -Z gate via conjugatie X Z X\n",
    "negz_circ = QuantumCircuit(1, name=\"-Z\")\n",
    "negz_circ.x(0); negz_circ.z(0); negz_circ.x(0)\n",
    "negz_gate = negz_circ.to_gate(label=\"-Z\")\n",
    "\n",
    "# Maak lijst van unitaire gates [I, X, -Z]\n",
    "U_list = [id_gate, x_gate, negz_gate]\n",
    "\n",
    "# Bouw SELECT subcircuit: toepassen U_i afhankelijk van ancilla |i>\n",
    "sys = QuantumRegister(1, name=\"sys\")\n",
    "select_circ = QuantumCircuit(anc, sys, name=\"SELECT\")\n",
    "m = anc.size  # =2 control qubits\n",
    "for i, U_gate in enumerate(U_list):\n",
    "    ctrl_state = format(i, f\"0{m}b\")[::-1]     # binaire representatie met 2 bits\n",
    "    controlled_U = U_gate.control(m, ctrl_state=ctrl_state)\n",
    "    select_circ.append(controlled_U, anc[:] + sys[:])\n",
    "    print(f\"U_{i} = {U_gate} met controle toestand {ctrl_state}\")\n",
    "select_gate = select_circ.to_gate(label=\"SELECT\")\n"
   ]
  },
  {
   "cell_type": "code",
   "execution_count": 5,
   "id": "9f626005",
   "metadata": {},
   "outputs": [
    {
     "name": "stdout",
     "output_type": "stream",
     "text": [
      "Instruction(name='SELECT', num_qubits=3, num_clbits=0, params=[])\n"
     ]
    }
   ],
   "source": [
    "print(select_gate)"
   ]
  },
  {
   "cell_type": "code",
   "execution_count": 6,
   "id": "7a038710",
   "metadata": {},
   "outputs": [
    {
     "data": {
      "text/html": [
       "<pre style=\"word-wrap: normal;white-space: pre;background: #fff0;line-height: 1.1;font-family: &quot;Courier New&quot;,Courier,monospace\">                        \n",
       "anc_0: ──o─────o────■───\n",
       "         │     │    │   \n",
       "anc_1: ──o─────■────o───\n",
       "       ┌─┴──┐┌─┴─┐┌─┴──┐\n",
       "  sys: ┤ Id ├┤ X ├┤ -Z ├\n",
       "       └────┘└───┘└────┘</pre>"
      ],
      "text/plain": [
       "                        \n",
       "anc_0: ──o─────o────■───\n",
       "         │     │    │   \n",
       "anc_1: ──o─────■────o───\n",
       "       ┌─┴──┐┌─┴─┐┌─┴──┐\n",
       "  sys: ┤ Id ├┤ X ├┤ -Z ├\n",
       "       └────┘└───┘└────┘"
      ]
     },
     "execution_count": 6,
     "metadata": {},
     "output_type": "execute_result"
    }
   ],
   "source": [
    "select_circ.draw()"
   ]
  },
  {
   "cell_type": "code",
   "execution_count": 7,
   "id": "6504f2de",
   "metadata": {},
   "outputs": [
    {
     "data": {
      "text/plain": [
       "<qiskit.circuit.instructionset.InstructionSet at 0x7f05fd3a8d00>"
      ]
     },
     "execution_count": 7,
     "metadata": {},
     "output_type": "execute_result"
    }
   ],
   "source": [
    "\n",
    "from qiskit import ClassicalRegister\n",
    "c_reg = ClassicalRegister(4, name=\"c\")\n",
    "\n",
    "blockenc_circ = QuantumCircuit(anc, sys, name=\"U_block\")\n",
    "#blockenc_circ.x(anc[0])\n",
    "\n",
    "blockenc_circ.append(select_gate, anc[:] + sys[:])"
   ]
  },
  {
   "cell_type": "code",
   "execution_count": 8,
   "id": "c4b353cd",
   "metadata": {},
   "outputs": [
    {
     "data": {
      "text/html": [
       "<pre style=\"word-wrap: normal;white-space: pre;background: #fff0;line-height: 1.1;font-family: &quot;Courier New&quot;,Courier,monospace\">       ┌─────────┐\n",
       "anc_0: ┤0        ├\n",
       "       │         │\n",
       "anc_1: ┤1 SELECT ├\n",
       "       │         │\n",
       "  sys: ┤2        ├\n",
       "       └─────────┘</pre>"
      ],
      "text/plain": [
       "       ┌─────────┐\n",
       "anc_0: ┤0        ├\n",
       "       │         │\n",
       "anc_1: ┤1 SELECT ├\n",
       "       │         │\n",
       "  sys: ┤2        ├\n",
       "       └─────────┘"
      ]
     },
     "execution_count": 8,
     "metadata": {},
     "output_type": "execute_result"
    }
   ],
   "source": [
    "blockenc_circ.draw()"
   ]
  },
  {
   "cell_type": "code",
   "execution_count": 9,
   "id": "78b0d244",
   "metadata": {},
   "outputs": [
    {
     "data": {
      "text/plain": [
       "<qiskit.circuit.instructionset.InstructionSet at 0x7f05fd0c5690>"
      ]
     },
     "execution_count": 9,
     "metadata": {},
     "output_type": "execute_result"
    }
   ],
   "source": [
    "blockenc_circ.save_statevector()"
   ]
  },
  {
   "cell_type": "code",
   "execution_count": 10,
   "id": "ddf1f332",
   "metadata": {},
   "outputs": [
    {
     "name": "stdout",
     "output_type": "stream",
     "text": [
      "Prepared state (ancilla): Statevector([ 1.00000000e+00-6.71997040e-16j,\n",
      "              1.27639409e-33-7.88850967e-33j,\n",
      "              1.97653216e-32+1.16379091e-32j,\n",
      "             -1.56313193e-49+1.42523282e-48j,\n",
      "              3.33066907e-16+2.35513869e-16j,\n",
      "             -7.43936991e-33+1.72553385e-33j,\n",
      "             -1.10495576e-32+5.47493331e-33j,\n",
      "             -5.03265091e-64-4.59169004e-49j],\n",
      "            dims=(2, 2, 2))\n"
     ]
    }
   ],
   "source": [
    "from qiskit_aer import AerSimulator\n",
    "# Set up the quantum simulator\n",
    "backend = AerSimulator(method='statevector', shots=1024)\n",
    "#Execute the circuit on the simulator\n",
    "#job = backend.run(qpe_circ, shots=1024)\n",
    "job = backend.run(blockenc_circ.decompose(reps=6), shots=1024)\n",
    "state_prep = job.result().get_statevector(blockenc_circ)\n",
    "print(\"Prepared state (ancilla):\", state_prep)\n",
    "\n"
   ]
  },
  {
   "cell_type": "code",
   "execution_count": 11,
   "id": "85f8cd07",
   "metadata": {},
   "outputs": [],
   "source": [
    "blockenc_circ.measure_all()"
   ]
  },
  {
   "cell_type": "code",
   "execution_count": 12,
   "id": "bf933b15",
   "metadata": {},
   "outputs": [
    {
     "data": {
      "text/html": [
       "<pre style=\"word-wrap: normal;white-space: pre;background: #fff0;line-height: 1.1;font-family: &quot;Courier New&quot;,Courier,monospace\">        ┌─────────┐ statevector  ░ ┌─┐      \n",
       " anc_0: ┤0        ├──────░───────░─┤M├──────\n",
       "        │         │      ░       ░ └╥┘┌─┐   \n",
       " anc_1: ┤1 SELECT ├──────░───────░──╫─┤M├───\n",
       "        │         │      ░       ░  ║ └╥┘┌─┐\n",
       "   sys: ┤2        ├──────░───────░──╫──╫─┤M├\n",
       "        └─────────┘      ░       ░  ║  ║ └╥┘\n",
       "meas: 3/════════════════════════════╩══╩══╩═\n",
       "                                    0  1  2 </pre>"
      ],
      "text/plain": [
       "        ┌─────────┐ statevector  ░ ┌─┐      \n",
       " anc_0: ┤0        ├──────░───────░─┤M├──────\n",
       "        │         │      ░       ░ └╥┘┌─┐   \n",
       " anc_1: ┤1 SELECT ├──────░───────░──╫─┤M├───\n",
       "        │         │      ░       ░  ║ └╥┘┌─┐\n",
       "   sys: ┤2        ├──────░───────░──╫──╫─┤M├\n",
       "        └─────────┘      ░       ░  ║  ║ └╥┘\n",
       "meas: 3/════════════════════════════╩══╩══╩═\n",
       "                                    0  1  2 "
      ]
     },
     "execution_count": 12,
     "metadata": {},
     "output_type": "execute_result"
    }
   ],
   "source": [
    "blockenc_circ.draw()"
   ]
  },
  {
   "cell_type": "code",
   "execution_count": 13,
   "id": "c5c7313f",
   "metadata": {},
   "outputs": [],
   "source": [
    "from qiskit_aer import AerSimulator\n",
    "# Set up the quantum simulator\n",
    "backend = AerSimulator()\n",
    "\n",
    "#Execute the circuit on the simulator\n",
    "#job = backend.run(qpe_circ, shots=1024)\n",
    "job = backend.run(blockenc_circ.decompose(reps=6),shots=1024)\n",
    "sim_result = job.result()\n",
    "counts = sim_result.get_counts()"
   ]
  },
  {
   "cell_type": "code",
   "execution_count": 14,
   "id": "f20816b9",
   "metadata": {},
   "outputs": [
    {
     "data": {
      "text/plain": [
       "{'000': 1024}"
      ]
     },
     "execution_count": 14,
     "metadata": {},
     "output_type": "execute_result"
    }
   ],
   "source": [
    "counts"
   ]
  },
  {
   "cell_type": "code",
   "execution_count": 15,
   "id": "d631d3bb",
   "metadata": {},
   "outputs": [],
   "source": [
    "# Combineer PREP, SELECT, PREP† tot block-encoding unitary U\n",
    "blockenc_circ = QuantumCircuit(anc, sys, name=\"U_block\")\n",
    "blockenc_circ.append(prep_gate, anc[:])\n",
    "blockenc_circ.append(select_gate, anc[:] + sys[:])\n",
    "blockenc_circ.append(prep_gate.inverse(), anc[:])\n",
    "U_block = blockenc_circ.to_gate(label=\"U\")  # gate voor de gehele block-encode\n"
   ]
  },
  {
   "cell_type": "code",
   "execution_count": 16,
   "id": "ea347520",
   "metadata": {},
   "outputs": [
    {
     "data": {
      "text/html": [
       "<pre style=\"word-wrap: normal;white-space: pre;background: #fff0;line-height: 1.1;font-family: &quot;Courier New&quot;,Courier,monospace\">       ┌───────┐┌─────────┐┌──────────┐\n",
       "anc_0: ┤0      ├┤0        ├┤0         ├\n",
       "       │  PREP ││         ││  PREP_dg │\n",
       "anc_1: ┤1      ├┤1 SELECT ├┤1         ├\n",
       "       └───────┘│         │└──────────┘\n",
       "  sys: ─────────┤2        ├────────────\n",
       "                └─────────┘            </pre>"
      ],
      "text/plain": [
       "       ┌───────┐┌─────────┐┌──────────┐\n",
       "anc_0: ┤0      ├┤0        ├┤0         ├\n",
       "       │  PREP ││         ││  PREP_dg │\n",
       "anc_1: ┤1      ├┤1 SELECT ├┤1         ├\n",
       "       └───────┘│         │└──────────┘\n",
       "  sys: ─────────┤2        ├────────────\n",
       "                └─────────┘            "
      ]
     },
     "execution_count": 16,
     "metadata": {},
     "output_type": "execute_result"
    }
   ],
   "source": [
    "blockenc_circ.draw()"
   ]
  },
  {
   "cell_type": "code",
   "execution_count": 17,
   "id": "5db09016",
   "metadata": {},
   "outputs": [],
   "source": [
    "blockenc_circ = blockenc_circ.decompose(reps=6)"
   ]
  },
  {
   "cell_type": "code",
   "execution_count": null,
   "id": "6236f5b0",
   "metadata": {},
   "outputs": [],
   "source": []
  },
  {
   "cell_type": "code",
   "execution_count": 18,
   "id": "56b50428",
   "metadata": {},
   "outputs": [],
   "source": [
    "# Bouw het quantum walk operator W = R * U\n",
    "W_circ = QuantumCircuit(anc, sys, name=\"W\")\n",
    "# Eerst U toepassen:\n",
    "W_circ.append(U_block, anc[:] + sys[:])\n",
    "# Vervolgens reflectie R op ancilla:\n",
    "W_circ.x(anc[0]); W_circ.x(anc[1])\n",
    "W_circ.cz(anc[0], anc[1])            # faseflip op |11> (komt overeen met |00> origineel)\n",
    "W_circ.x(anc[0]); W_circ.x(anc[1])\n",
    "W_gate = W_circ.to_gate(label=\"W\")\n"
   ]
  },
  {
   "cell_type": "code",
   "execution_count": 19,
   "id": "0559d7d1",
   "metadata": {},
   "outputs": [
    {
     "data": {
      "text/plain": [
       "<qiskit.circuit.instructionset.InstructionSet at 0x7f05eee181c0>"
      ]
     },
     "execution_count": 19,
     "metadata": {},
     "output_type": "execute_result"
    }
   ],
   "source": [
    "from qiskit.circuit.library import QFT\n",
    "\n",
    "# Maak registers voor QPE, ancilla, en systeem\n",
    "qpe = QuantumRegister(4, name=\"qpe\")\n",
    "anc_final = QuantumRegister(2, name=\"anc\")   # ancilla (2 qubits)\n",
    "sys_final = QuantumRegister(1, name=\"sys\")\n",
    "# klassiek register voor uitlezen fasebits\n",
    "from qiskit import ClassicalRegister\n",
    "c_reg = ClassicalRegister(4, name=\"c\")\n",
    "\n",
    "qpe_circ = QuantumCircuit(qpe, anc_final, sys_final, c_reg, name=\"QPE\")\n",
    "# 1. Initialiseer ancilla en systeem\n",
    "qpe_circ.append(prep_gate, anc_final[:])          # voorbereid ancilla zoals eerder (alternatief: begin in |00> en laat PREP deel van U doen)\n",
    "#qpe_circ.initialize([1,0], sys_final)             # bijvoorbeeld |0> als starttoestand systeem\n",
    "# Vervang de standaard initialisatie van de systemqubit\n",
    "#eigvec = np.array([], dtype=complex)  # |0> als starttoestand systeem\n",
    "# Bereken de ongewenste vector (proportioneel)\n",
    "#eigvec = np.array([1, 1 - np.sqrt(2)], dtype=complex)\n",
    "eigvec = np.array([1, 0])\n",
    "# Normaliseer de vector\n",
    "#eigvec = eigvec / np.linalg.norm(eigvec)\n",
    "eigvec = eigvec / np.sqrt(np.sum(np.abs(eigvec)**2))\n",
    "\n",
    "qpe_circ.initialize(eigvec, sys_final)\n",
    "#v_{\\text{norm}} \\approx \\begin{pmatrix}0.9238795 \\\\ -0.3826834\\end{pmatrix},\n",
    "\n",
    "# 2. Hadamards op alle QPE qubits\n",
    "qpe_circ.h(qpe)\n",
    "\n",
    "# 3. Gecontroleerde W^1, W^2, W^4 toepassen\n",
    "# Bereid powers van W als gates (W, W^2, W^4)\n",
    "from qiskit.quantum_info import Operator\n",
    "W_op = Operator(W_gate)\n",
    "W2_op = W_op.power(2);  W4_op = W_op.power(4); W8_op = W_op.power(8)\n",
    "W2_gate = W2_op.to_instruction()\n",
    "W4_gate = W4_op.to_instruction()\n",
    "W8_gate = W8_op.to_instruction()\n",
    "\n",
    "# Controleer met QPE qubits\n",
    "qpe_circ.append(W_gate.control(1), [qpe[0]] + anc_final[:] + sys_final[:])\n",
    "qpe_circ.append(W2_gate.control(1), [qpe[1]] + anc_final[:] + sys_final[:])\n",
    "qpe_circ.append(W4_gate.control(1), [qpe[2]] + anc_final[:] + sys_final[:])\n",
    "qpe_circ.append(W8_gate.control(1), [qpe[3]] + anc_final[:] + sys_final[:])\n",
    "\n",
    "# 4. Inverse Quantum Fourier Transform op QPE-register\n",
    "qft_inv = QFT(num_qubits=4, inverse=True).to_gate(label=\"QFT†\")\n",
    "qpe_circ.append(qft_inv, qpe)\n",
    "\n",
    "# 5. Meet het fase-register\n",
    "qpe_circ.measure(qpe, c_reg)\n"
   ]
  },
  {
   "cell_type": "code",
   "execution_count": 20,
   "id": "7f6c5ee8",
   "metadata": {},
   "outputs": [
    {
     "data": {
      "text/plain": [
       "array([1., 0.])"
      ]
     },
     "execution_count": 20,
     "metadata": {},
     "output_type": "execute_result"
    }
   ],
   "source": [
    "eigvec"
   ]
  },
  {
   "cell_type": "code",
   "execution_count": 21,
   "id": "abf3f8de",
   "metadata": {},
   "outputs": [
    {
     "name": "stdout",
     "output_type": "stream",
     "text": [
      "              ┌───┐                                                 ┌───────┐»\n",
      "qpe_0: ───────┤ H ├─────────■───────────────────────────────────────┤0      ├»\n",
      "              ├───┤         │                                       │       │»\n",
      "qpe_1: ───────┤ H ├─────────┼────────■──────────────────────────────┤1      ├»\n",
      "              ├───┤         │        │                              │  QFT† │»\n",
      "qpe_2: ───────┤ H ├─────────┼────────┼───────────■──────────────────┤2      ├»\n",
      "              ├───┤         │        │           │                  │       │»\n",
      "qpe_3: ───────┤ H ├─────────┼────────┼───────────┼───────────■──────┤3      ├»\n",
      "            ┌─┴───┴─┐     ┌─┴──┐┌────┴─────┐┌────┴─────┐┌────┴─────┐└───────┘»\n",
      "anc_0: ─────┤0      ├─────┤0   ├┤0         ├┤0         ├┤0         ├─────────»\n",
      "            │  PREP │     │    ││          ││          ││          │         »\n",
      "anc_1: ─────┤1      ├─────┤1 W ├┤1 Unitary ├┤1 Unitary ├┤1 Unitary ├─────────»\n",
      "       ┌────┴───────┴────┐│    ││          ││          ││          │         »\n",
      "  sys: ┤ Initialize(1,0) ├┤2   ├┤2         ├┤2         ├┤2         ├─────────»\n",
      "       └─────────────────┘└────┘└──────────┘└──────────┘└──────────┘         »\n",
      "  c: 4/══════════════════════════════════════════════════════════════════════»\n",
      "                                                                             »\n",
      "«       ┌─┐         \n",
      "«qpe_0: ┤M├─────────\n",
      "«       └╥┘┌─┐      \n",
      "«qpe_1: ─╫─┤M├──────\n",
      "«        ║ └╥┘┌─┐   \n",
      "«qpe_2: ─╫──╫─┤M├───\n",
      "«        ║  ║ └╥┘┌─┐\n",
      "«qpe_3: ─╫──╫──╫─┤M├\n",
      "«        ║  ║  ║ └╥┘\n",
      "«anc_0: ─╫──╫──╫──╫─\n",
      "«        ║  ║  ║  ║ \n",
      "«anc_1: ─╫──╫──╫──╫─\n",
      "«        ║  ║  ║  ║ \n",
      "«  sys: ─╫──╫──╫──╫─\n",
      "«        ║  ║  ║  ║ \n",
      "«  c: 4/═╩══╩══╩══╩═\n",
      "«        0  1  2  3 \n"
     ]
    }
   ],
   "source": [
    "print(qpe_circ)"
   ]
  },
  {
   "cell_type": "code",
   "execution_count": 22,
   "id": "7b309631",
   "metadata": {},
   "outputs": [],
   "source": [
    "from qiskit_aer import AerSimulator\n",
    "# Set up the quantum simulator\n",
    "backend = AerSimulator()\n",
    "#Execute the circuit on the simulator\n",
    "#job = backend.run(qpe_circ, shots=1024)\n",
    "job = backend.run(qpe_circ.decompose(reps=6),shots=1024)\n",
    "sim_result = job.result()\n",
    "counts = sim_result.get_counts()"
   ]
  },
  {
   "cell_type": "code",
   "execution_count": 23,
   "id": "b8985a27",
   "metadata": {},
   "outputs": [
    {
     "data": {
      "text/plain": [
       "{'0001': 1,\n",
       " '1101': 2,\n",
       " '0100': 5,\n",
       " '1011': 508,\n",
       " '0111': 38,\n",
       " '0011': 3,\n",
       " '0000': 148,\n",
       " '0010': 1,\n",
       " '1100': 37,\n",
       " '1001': 146,\n",
       " '0101': 83,\n",
       " '1110': 3,\n",
       " '1010': 31,\n",
       " '1111': 2,\n",
       " '1000': 9,\n",
       " '0110': 7}"
      ]
     },
     "execution_count": 23,
     "metadata": {},
     "output_type": "execute_result"
    }
   ],
   "source": [
    "counts"
   ]
  },
  {
   "cell_type": "code",
   "execution_count": 24,
   "id": "bdeebfdd",
   "metadata": {},
   "outputs": [
    {
     "name": "stdout",
     "output_type": "stream",
     "text": [
      "0.5\n",
      "0.5\n",
      "0.625\n",
      "0.6875\n",
      "Estimated eigenvalue of the Hamiltonian: 0.9567085809127258\n"
     ]
    }
   ],
   "source": [
    "t = 1\n",
    "phase_bits = max(counts, key=counts.get) # take the most often obtaned result\n",
    "\n",
    "phase = 0\n",
    "for index, bit in enumerate((phase_bits)):\n",
    "    phase += int(bit) / 2**(index + 1)\n",
    "    print(phase)\n",
    "\n",
    "lam = 2.5\n",
    "# Bereken de eigenwaarde van de Hamiltoniaan\n",
    "# met behulp van de gemeten fase\n",
    "E = 0\n",
    "theta = 2*np.pi*phase\n",
    "if theta < np.pi/2:\n",
    "    E =  lam * np.cos(theta)\n",
    "else:\n",
    "    E = -lam * np.cos(theta)\n",
    "\n",
    "\n",
    "\n",
    "print(\"Estimated eigenvalue of the Hamiltonian: {}\".format(E))"
   ]
  },
  {
   "cell_type": "code",
   "execution_count": 25,
   "id": "0a5ddab7",
   "metadata": {},
   "outputs": [
    {
     "data": {
      "text/plain": [
       "'1011'"
      ]
     },
     "execution_count": 25,
     "metadata": {},
     "output_type": "execute_result"
    }
   ],
   "source": [
    "phase_bits"
   ]
  },
  {
   "cell_type": "code",
   "execution_count": 26,
   "id": "9fd8e043",
   "metadata": {},
   "outputs": [
    {
     "data": {
      "text/plain": [
       "0.6875"
      ]
     },
     "execution_count": 26,
     "metadata": {},
     "output_type": "execute_result"
    }
   ],
   "source": [
    "phase"
   ]
  },
  {
   "cell_type": "code",
   "execution_count": 27,
   "id": "e59ce670",
   "metadata": {},
   "outputs": [],
   "source": [
    "from qiskit import QuantumCircuit, QuantumRegister\n",
    "from qiskit.circuit.library import XGate, IGate\n",
    "from qiskit.quantum_info import Operator\n",
    "import numpy as np\n",
    "\n",
    "# --- PREP (ancilla‑superpositie) ---\n",
    "omega = [1.5, 0.5, -0.5]; lam = 2.5\n",
    "alpha = [np.sqrt(abs(w)/lam) for w in omega] + [0]      # |00>,|01>,|10>,|11>\n",
    "anc   = QuantumRegister(2,'anc')\n",
    "prep  = QuantumCircuit(anc, name='PREP')\n",
    "prep.prepare_state(alpha, anc)\n",
    "prep_gate = prep.to_gate()\n",
    "\n",
    "# --- SELECT (conditioneel I,X,-Z op systeem) ---\n",
    "sys = QuantumRegister(1,'sys')\n",
    "idg, xg = IGate(), XGate()\n",
    "negz = QuantumCircuit(1); negz.x(0); negz.z(0); negz.x(0)\n",
    "select = QuantumCircuit(anc, sys, name='SELECT')\n",
    "for i,U in enumerate([idg,xg,negz.to_gate(label='-Z')]):\n",
    "    #select.append(U.control(2, ctrl_state=f'{i:02b}'), anc[:] + sys[:])\n",
    "    # reverse the two‐bit string so bit0→anc[0], bit1→anc[1]\n",
    "    cs = f'{i:02b}'[::-1]\n",
    "    select.append(U.control(2, ctrl_state=cs), anc[:] + sys[:])\n",
    "select_gate = select.to_gate()\n",
    "\n",
    "# --- U = PREP · SELECT · PREP† ---\n",
    "Ucirc = QuantumCircuit(anc, sys)\n",
    "Ucirc.append(prep_gate, anc)\n",
    "Ucirc.append(select_gate, anc[:] + sys[:])\n",
    "Ucirc.append(prep_gate.inverse(), anc)\n",
    "U = Operator(Ucirc).data        # 8×8‑matrix (2 ancilla‑qubits + 1 systeem‑qubit)\n"
   ]
  },
  {
   "cell_type": "code",
   "execution_count": 28,
   "id": "616807da",
   "metadata": {},
   "outputs": [],
   "source": [
    " # pick out the anc=|00> subspace (b0=0,b1=0) → indices 0 and 4\n",
    "idx = [0, 4]\n",
    "top_left = U[np.ix_(idx, idx)]"
   ]
  },
  {
   "cell_type": "code",
   "execution_count": 29,
   "id": "4f3d3978",
   "metadata": {},
   "outputs": [],
   "source": [
    "I = np.array([[1,0],[0,1]])\n",
    "X = np.array([[0,1],[1,0]])\n",
    "Z = np.array([[1,0],[0,-1]])\n",
    "H_expected = (1.5*I - 0.5*Z + 0.5*X)/lam\n"
   ]
  },
  {
   "cell_type": "code",
   "execution_count": 30,
   "id": "c938dfa2",
   "metadata": {},
   "outputs": [
    {
     "name": "stdout",
     "output_type": "stream",
     "text": [
      "Extracted:\n",
      " [[0.4-0.j 0.2-0.j]\n",
      " [0.2-0.j 0.8-0.j]]\n",
      "Expected :\n",
      " [[0.4 0.2]\n",
      " [0.2 0.8]]\n",
      "Overeenkomst?: True\n"
     ]
    }
   ],
   "source": [
    "print(\"Extracted:\\n\", np.round(top_left,10))\n",
    "print(\"Expected :\\n\", np.round(H_expected,10))\n",
    "print(\"Overeenkomst?:\", np.allclose(top_left, H_expected, atol=1e-8))\n"
   ]
  }
 ],
 "metadata": {
  "kernelspec": {
   "display_name": "qiskit",
   "language": "python",
   "name": "python3"
  },
  "language_info": {
   "codemirror_mode": {
    "name": "ipython",
    "version": 3
   },
   "file_extension": ".py",
   "mimetype": "text/x-python",
   "name": "python",
   "nbconvert_exporter": "python",
   "pygments_lexer": "ipython3",
   "version": "3.12.3"
  }
 },
 "nbformat": 4,
 "nbformat_minor": 5
}

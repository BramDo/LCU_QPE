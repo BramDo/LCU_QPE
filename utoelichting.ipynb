{
 "cells": [
  {
   "cell_type": "markdown",
   "id": "8462e84f",
   "metadata": {},
   "source": [
    "### Why use a **walk operator** $W$ before Quantum Phase Estimation?\n",
    "\n",
    "| Concept                                                                            | What the walk‐operator does                                                                                                                                                                                                                                                                                     | Why QPE needs it                                                                                                                                                                                                           |\n",
    "| ---------------------------------------------------------------------------------- | --------------------------------------------------------------------------------------------------------------------------------------------------------------------------------------------------------------------------------------------------------------------------------------------------------------- | -------------------------------------------------------------------------------------------------------------------------------------------------------------------------------------------------------------------------- |\n",
    "| **Block-encoding** $U = \\mathrm{PREP}^{\\dagger}\\,\\mathrm{SELECT}\\,\\mathrm{PREP}$   | Embeds the scaled Hamiltonian $H/\\lambda$ in the upper-left block of a unitary.                                                                                                                                                                                                                                 | Eigen-phases of $U$ are **not** simple functions of energies $E_j$; ancilla sub-spaces mix.                                                                                                                                |\n",
    "| **Reflection** $R = 2\\lvert 0^{\\otimes m}\\rangle\\!\\langle 0^{\\otimes m}\\rvert - I$ | Acts only on the ancilla register; supplies a Szegedy-style reflection.                                                                                                                                                                                                                                         | Prepares the two-dimensional “signal” sub-space needed for qubitisation.                                                                                                                                                   |\n",
    "| **Walk operator** $W = R\\,U$                                                       | Combines $U$ with the reflection so that, on $\\lvert 0^{\\otimes m}\\rangle\\!\\otimes\\!\\lvert\\psi_j\\rangle$,<br> $W\\bigl(\\lvert 0^{\\otimes m}\\rangle\\otimes\\lvert\\psi_j\\rangle\\bigr)=e^{\\pm i\\theta_j}\\bigl(\\lvert 0^{\\otimes m}\\rangle\\otimes\\lvert\\psi_j\\rangle\\bigr),\\qquad \\cos\\theta_j=\\tfrac{E_j}{\\lambda}.$ | 1. **Turns energies into phases**: $\\theta_j$ encodes $E_j$.<br>2. **Keeps amplitude** inside the SU(2) sub-space—no leakage during controlled powers $W^{2^k}$.<br>3. **Costs no extra depth** beyond a cheap reflection. |\n",
    "\n",
    "---\n",
    "\n",
    "#### Key ideas in equations\n",
    "\n",
    "* **Block-encoding condition**\n",
    "\n",
    "  $$\n",
    "    (\\langle 0^{\\otimes m}|\\!\\otimes I)\\;U\\;(|0^{\\otimes m}\\rangle\\!\\otimes I)=\\frac{H}{\\lambda},\n",
    "    \\qquad\\|U\\|=1.\n",
    "  $$\n",
    "\n",
    "* **Walk operator definition**\n",
    "\n",
    "  $$\n",
    "    W = \\bigl(2|0^{\\otimes m}\\rangle\\!\\langle 0^{\\otimes m}|-I\\bigr)\\,U .\n",
    "  $$\n",
    "\n",
    "* **Eigen-phase/energy relation**\n",
    "\n",
    "  $$\n",
    "    E_j = \\lambda\\,\\cos\\theta_j \\quad\\Longleftrightarrow\\quad\n",
    "    W|\\!0^{\\otimes m}\\rangle\\!|\\psi_j\\rangle = e^{\\pm i\\theta_j}|\\!0^{\\otimes m}\\rangle\\!|\\psi_j\\rangle .\n",
    "  $$\n",
    "\n",
    "---\n",
    "\n",
    "#### Theoretical footing (Low & Chuang, *npj QI* **3**, 13 (2017))\n",
    "\n",
    "Qubitisation proves that any block-encoding $U$ plus reflection $R$ confines the dynamics to an **SU(2)** space spanned by\n",
    "$\\{|0^{\\otimes m}\\rangle\\otimes|\\psi_j\\rangle,\\,R|0^{\\otimes m}\\rangle\\otimes|\\psi_j\\rangle\\}$.\n",
    "Inside that space $W$ acts as a single-qubit rotation whose phase is exactly $\\theta_j$.\n",
    "\n",
    "---\n",
    "\n",
    "#### Practical upshot\n",
    "\n",
    "1. **Prepare** the block-encoding $U$ of $H/\\lambda$.\n",
    "2. **Form** $W = R\\,U$; reflection $R$ adds negligible cost.\n",
    "3. **Run QPE** on $W$. Measured phase bits $\\theta_j$ give energies through $E_j=\\lambda\\cos\\theta_j$.\n",
    "\n",
    "Without step 2 the spectrum of $U$ mixes ancilla sectors and QPE would *not* return the Hamiltonian energies. The walk operator is thus the essential link between block-encoded Hamiltonians and phase-based energy extraction.\n"
   ]
  }
 ],
 "metadata": {
  "language_info": {
   "name": "python"
  }
 },
 "nbformat": 4,
 "nbformat_minor": 5
}
